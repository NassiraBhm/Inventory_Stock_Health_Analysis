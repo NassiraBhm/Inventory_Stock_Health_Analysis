{
 "cells": [
  {
   "cell_type": "markdown",
   "id": "2fd6a532",
   "metadata": {},
   "source": [
    "# Stock Health Analysis "
   ]
  },
  {
   "cell_type": "code",
   "execution_count": 86,
   "id": "f445717d",
   "metadata": {},
   "outputs": [],
   "source": [
    "import pandas as pd\n",
    "import numpy as np\n"
   ]
  },
  {
   "cell_type": "markdown",
   "metadata": {},
   "source": [
    "### Loading data"
   ]
  },
  {
   "cell_type": "code",
   "execution_count": 114,
   "id": "a24409a4",
   "metadata": {},
   "outputs": [],
   "source": [
    "data = pd.read_csv('Grocery_Inventory new v1.csv')"
   ]
  },
  {
   "cell_type": "markdown",
   "id": "3e8e65c6",
   "metadata": {},
   "source": [
    "### Data exploration"
   ]
  },
  {
   "cell_type": "code",
   "execution_count": 51,
   "id": "306962f0",
   "metadata": {},
   "outputs": [
    {
     "data": {
      "application/vnd.microsoft.datawrangler.viewer.v0+json": {
       "columns": [
        {
         "name": "index",
         "rawType": "int64",
         "type": "integer"
        },
        {
         "name": "Product_Name",
         "rawType": "object",
         "type": "string"
        },
        {
         "name": "Catagory",
         "rawType": "object",
         "type": "string"
        },
        {
         "name": "Supplier_Name",
         "rawType": "object",
         "type": "string"
        },
        {
         "name": "Warehouse_Location",
         "rawType": "object",
         "type": "string"
        },
        {
         "name": "Status",
         "rawType": "object",
         "type": "string"
        },
        {
         "name": "Product_ID",
         "rawType": "object",
         "type": "string"
        },
        {
         "name": "Supplier_ID",
         "rawType": "object",
         "type": "string"
        },
        {
         "name": "Date_Received",
         "rawType": "object",
         "type": "string"
        },
        {
         "name": "Last_Order_Date",
         "rawType": "object",
         "type": "string"
        },
        {
         "name": "Expiration_Date",
         "rawType": "object",
         "type": "string"
        },
        {
         "name": "Stock_Quantity",
         "rawType": "int64",
         "type": "integer"
        },
        {
         "name": "Reorder_Level",
         "rawType": "int64",
         "type": "integer"
        },
        {
         "name": "Reorder_Quantity",
         "rawType": "int64",
         "type": "integer"
        },
        {
         "name": "Unit_Price",
         "rawType": "object",
         "type": "string"
        },
        {
         "name": "Sales_Volume",
         "rawType": "int64",
         "type": "integer"
        },
        {
         "name": "Inventory_Turnover_Rate",
         "rawType": "int64",
         "type": "integer"
        },
        {
         "name": "percentage",
         "rawType": "object",
         "type": "string"
        }
       ],
       "ref": "df180a8d-b898-4768-ac0b-cec4097f8f94",
       "rows": [
        [
         "0",
         "Bell Pepper",
         "Fruits & Vegetables",
         "Eimbee",
         "20 Pennsylvania Parkway",
         "Discontinued",
         "29-017-6255",
         "43-348-2450",
         "3/1/2024",
         "1/6/2025",
         "1/31/2025",
         "46",
         "64",
         "17",
         "$4.60",
         "96",
         "55",
         "1.96%"
        ],
        [
         "1",
         "Vegetable Oil",
         "Oils & Fats",
         "Digitube",
         "03643 Oakridge Lane",
         "Backordered",
         "79-569-8856",
         "04-854-7165",
         "4/1/2024",
         "5/19/2024",
         "6/11/2024",
         "51",
         "87",
         "86",
         "$2.00",
         "24",
         "83",
         "0.91%"
        ],
        [
         "2",
         "Parmesan Cheese",
         "Dairy",
         "BlogXS",
         "73 Graedel Street",
         "Discontinued",
         "28-146-2641",
         "82-995-0739",
         "4/1/2024",
         "12/21/2024",
         "4/8/2024",
         "38",
         "67",
         "66",
         "$12.00",
         "35",
         "24",
         "1.36%"
        ],
        [
         "3",
         "Carrot",
         "Fruits & Vegetables",
         "Avaveo",
         "44801 Myrtle Center",
         "Discontinued",
         "11-581-9869",
         "22-867-3079",
         "5/1/2024",
         "12/12/2024",
         "9/26/2024",
         "51",
         "60",
         "98",
         "$1.50",
         "44",
         "95",
         "1.36%"
        ],
        [
         "4",
         "Garlic",
         "Fruits & Vegetables",
         "Katz",
         "6195 Monterey Center",
         "Discontinued",
         "13-202-4809",
         "24-281-7685",
         "5/1/2024",
         "7/28/2024",
         "5/20/2024",
         "27",
         "22",
         "89",
         "$7.00",
         "91",
         "77",
         "2.17%"
        ]
       ],
       "shape": {
        "columns": 17,
        "rows": 5
       }
      },
      "text/html": [
       "<div>\n",
       "<style scoped>\n",
       "    .dataframe tbody tr th:only-of-type {\n",
       "        vertical-align: middle;\n",
       "    }\n",
       "\n",
       "    .dataframe tbody tr th {\n",
       "        vertical-align: top;\n",
       "    }\n",
       "\n",
       "    .dataframe thead th {\n",
       "        text-align: right;\n",
       "    }\n",
       "</style>\n",
       "<table border=\"1\" class=\"dataframe\">\n",
       "  <thead>\n",
       "    <tr style=\"text-align: right;\">\n",
       "      <th></th>\n",
       "      <th>Product_Name</th>\n",
       "      <th>Catagory</th>\n",
       "      <th>Supplier_Name</th>\n",
       "      <th>Warehouse_Location</th>\n",
       "      <th>Status</th>\n",
       "      <th>Product_ID</th>\n",
       "      <th>Supplier_ID</th>\n",
       "      <th>Date_Received</th>\n",
       "      <th>Last_Order_Date</th>\n",
       "      <th>Expiration_Date</th>\n",
       "      <th>Stock_Quantity</th>\n",
       "      <th>Reorder_Level</th>\n",
       "      <th>Reorder_Quantity</th>\n",
       "      <th>Unit_Price</th>\n",
       "      <th>Sales_Volume</th>\n",
       "      <th>Inventory_Turnover_Rate</th>\n",
       "      <th>percentage</th>\n",
       "    </tr>\n",
       "  </thead>\n",
       "  <tbody>\n",
       "    <tr>\n",
       "      <th>0</th>\n",
       "      <td>Bell Pepper</td>\n",
       "      <td>Fruits &amp; Vegetables</td>\n",
       "      <td>Eimbee</td>\n",
       "      <td>20 Pennsylvania Parkway</td>\n",
       "      <td>Discontinued</td>\n",
       "      <td>29-017-6255</td>\n",
       "      <td>43-348-2450</td>\n",
       "      <td>3/1/2024</td>\n",
       "      <td>1/6/2025</td>\n",
       "      <td>1/31/2025</td>\n",
       "      <td>46</td>\n",
       "      <td>64</td>\n",
       "      <td>17</td>\n",
       "      <td>$4.60</td>\n",
       "      <td>96</td>\n",
       "      <td>55</td>\n",
       "      <td>1.96%</td>\n",
       "    </tr>\n",
       "    <tr>\n",
       "      <th>1</th>\n",
       "      <td>Vegetable Oil</td>\n",
       "      <td>Oils &amp; Fats</td>\n",
       "      <td>Digitube</td>\n",
       "      <td>03643 Oakridge Lane</td>\n",
       "      <td>Backordered</td>\n",
       "      <td>79-569-8856</td>\n",
       "      <td>04-854-7165</td>\n",
       "      <td>4/1/2024</td>\n",
       "      <td>5/19/2024</td>\n",
       "      <td>6/11/2024</td>\n",
       "      <td>51</td>\n",
       "      <td>87</td>\n",
       "      <td>86</td>\n",
       "      <td>$2.00</td>\n",
       "      <td>24</td>\n",
       "      <td>83</td>\n",
       "      <td>0.91%</td>\n",
       "    </tr>\n",
       "    <tr>\n",
       "      <th>2</th>\n",
       "      <td>Parmesan Cheese</td>\n",
       "      <td>Dairy</td>\n",
       "      <td>BlogXS</td>\n",
       "      <td>73 Graedel Street</td>\n",
       "      <td>Discontinued</td>\n",
       "      <td>28-146-2641</td>\n",
       "      <td>82-995-0739</td>\n",
       "      <td>4/1/2024</td>\n",
       "      <td>12/21/2024</td>\n",
       "      <td>4/8/2024</td>\n",
       "      <td>38</td>\n",
       "      <td>67</td>\n",
       "      <td>66</td>\n",
       "      <td>$12.00</td>\n",
       "      <td>35</td>\n",
       "      <td>24</td>\n",
       "      <td>1.36%</td>\n",
       "    </tr>\n",
       "    <tr>\n",
       "      <th>3</th>\n",
       "      <td>Carrot</td>\n",
       "      <td>Fruits &amp; Vegetables</td>\n",
       "      <td>Avaveo</td>\n",
       "      <td>44801 Myrtle Center</td>\n",
       "      <td>Discontinued</td>\n",
       "      <td>11-581-9869</td>\n",
       "      <td>22-867-3079</td>\n",
       "      <td>5/1/2024</td>\n",
       "      <td>12/12/2024</td>\n",
       "      <td>9/26/2024</td>\n",
       "      <td>51</td>\n",
       "      <td>60</td>\n",
       "      <td>98</td>\n",
       "      <td>$1.50</td>\n",
       "      <td>44</td>\n",
       "      <td>95</td>\n",
       "      <td>1.36%</td>\n",
       "    </tr>\n",
       "    <tr>\n",
       "      <th>4</th>\n",
       "      <td>Garlic</td>\n",
       "      <td>Fruits &amp; Vegetables</td>\n",
       "      <td>Katz</td>\n",
       "      <td>6195 Monterey Center</td>\n",
       "      <td>Discontinued</td>\n",
       "      <td>13-202-4809</td>\n",
       "      <td>24-281-7685</td>\n",
       "      <td>5/1/2024</td>\n",
       "      <td>7/28/2024</td>\n",
       "      <td>5/20/2024</td>\n",
       "      <td>27</td>\n",
       "      <td>22</td>\n",
       "      <td>89</td>\n",
       "      <td>$7.00</td>\n",
       "      <td>91</td>\n",
       "      <td>77</td>\n",
       "      <td>2.17%</td>\n",
       "    </tr>\n",
       "  </tbody>\n",
       "</table>\n",
       "</div>"
      ],
      "text/plain": [
       "      Product_Name             Catagory Supplier_Name  \\\n",
       "0      Bell Pepper  Fruits & Vegetables        Eimbee   \n",
       "1    Vegetable Oil          Oils & Fats      Digitube   \n",
       "2  Parmesan Cheese                Dairy        BlogXS   \n",
       "3           Carrot  Fruits & Vegetables        Avaveo   \n",
       "4           Garlic  Fruits & Vegetables          Katz   \n",
       "\n",
       "        Warehouse_Location        Status   Product_ID  Supplier_ID  \\\n",
       "0  20 Pennsylvania Parkway  Discontinued  29-017-6255  43-348-2450   \n",
       "1      03643 Oakridge Lane   Backordered  79-569-8856  04-854-7165   \n",
       "2        73 Graedel Street  Discontinued  28-146-2641  82-995-0739   \n",
       "3      44801 Myrtle Center  Discontinued  11-581-9869  22-867-3079   \n",
       "4     6195 Monterey Center  Discontinued  13-202-4809  24-281-7685   \n",
       "\n",
       "  Date_Received Last_Order_Date Expiration_Date  Stock_Quantity  \\\n",
       "0      3/1/2024        1/6/2025       1/31/2025              46   \n",
       "1      4/1/2024       5/19/2024       6/11/2024              51   \n",
       "2      4/1/2024      12/21/2024        4/8/2024              38   \n",
       "3      5/1/2024      12/12/2024       9/26/2024              51   \n",
       "4      5/1/2024       7/28/2024       5/20/2024              27   \n",
       "\n",
       "   Reorder_Level  Reorder_Quantity Unit_Price  Sales_Volume  \\\n",
       "0             64                17      $4.60            96   \n",
       "1             87                86      $2.00            24   \n",
       "2             67                66     $12.00            35   \n",
       "3             60                98      $1.50            44   \n",
       "4             22                89      $7.00            91   \n",
       "\n",
       "   Inventory_Turnover_Rate percentage  \n",
       "0                       55      1.96%  \n",
       "1                       83      0.91%  \n",
       "2                       24      1.36%  \n",
       "3                       95      1.36%  \n",
       "4                       77      2.17%  "
      ]
     },
     "execution_count": 51,
     "metadata": {},
     "output_type": "execute_result"
    }
   ],
   "source": [
    "data.head()"
   ]
  },
  {
   "cell_type": "code",
   "execution_count": null,
   "id": "b5377435",
   "metadata": {},
   "outputs": [],
   "source": [
    "data.info()"
   ]
  },
  {
   "cell_type": "code",
   "execution_count": null,
   "id": "9b7b7c9a",
   "metadata": {},
   "outputs": [],
   "source": [
    "data.Status.unique()"
   ]
  },
  {
   "cell_type": "code",
   "execution_count": 132,
   "id": "c55cfd5a",
   "metadata": {},
   "outputs": [],
   "source": [
    "data['Unit_Price'] = data['Unit_Price'].fillna(0)\n",
    "data['Unit_Price'] = data['Unit_Price'].replace('[\\$,]', '', regex=True)\n",
    "data['Unit_Price'] = pd.to_numeric(data['Unit_Price'])"
   ]
  },
  {
   "cell_type": "code",
   "execution_count": 115,
   "id": "bd5f0ab7",
   "metadata": {},
   "outputs": [],
   "source": [
    "data['Stock_Gap'] =  data['Stock_Quantity'] - data['Reorder_Level']"
   ]
  },
  {
   "cell_type": "code",
   "execution_count": 116,
   "id": "ef5c43fd",
   "metadata": {},
   "outputs": [],
   "source": [
    "import numpy as np\n",
    "\n",
    "conditions = [\n",
    "    data['Stock_Gap'] > data['Reorder_Quantity'],\n",
    "    (data['Stock_Gap'] > 0) & (data['Stock_Gap'] <= data['Reorder_Quantity']),\n",
    "    data['Stock_Gap'] == 0,\n",
    "    data['Stock_Gap'] < 0\n",
    "]\n",
    "\n",
    "choices = ['Overstocked', 'Healthy', 'Reorder', 'Understocked']\n",
    "\n",
    "data['Stock_Health'] = np.select(conditions, choices, default='Unknown')"
   ]
  },
  {
   "cell_type": "code",
   "execution_count": 5,
   "id": "3864406e",
   "metadata": {},
   "outputs": [
    {
     "data": {
      "application/vnd.microsoft.datawrangler.viewer.v0+json": {
       "columns": [
        {
         "name": "Stock_Health",
         "rawType": "object",
         "type": "string"
        },
        {
         "name": "0",
         "rawType": "int64",
         "type": "integer"
        }
       ],
       "ref": "7846956b-a724-4316-9435-85d70300f005",
       "rows": [
        [
         "Healthy",
         "339"
        ],
        [
         "Overstocked",
         "186"
        ],
        [
         "Reorder",
         "10"
        ],
        [
         "Understocked",
         "455"
        ]
       ],
       "shape": {
        "columns": 1,
        "rows": 4
       }
      },
      "text/plain": [
       "Stock_Health\n",
       "Healthy         339\n",
       "Overstocked     186\n",
       "Reorder          10\n",
       "Understocked    455\n",
       "dtype: int64"
      ]
     },
     "execution_count": 5,
     "metadata": {},
     "output_type": "execute_result"
    }
   ],
   "source": [
    "data.groupby('Stock_Health').size()"
   ]
  },
  {
   "cell_type": "code",
   "execution_count": 133,
   "id": "a98d2e3f",
   "metadata": {},
   "outputs": [],
   "source": [
    "active_data = data[data['Status'] == 'Active']"
   ]
  },
  {
   "cell_type": "code",
   "execution_count": 63,
   "id": "75d04032",
   "metadata": {},
   "outputs": [
    {
     "data": {
      "application/vnd.microsoft.datawrangler.viewer.v0+json": {
       "columns": [
        {
         "name": "Stock_Health",
         "rawType": "object",
         "type": "string"
        },
        {
         "name": "0",
         "rawType": "int64",
         "type": "integer"
        }
       ],
       "ref": "d55bc729-f9cc-4e50-a469-41473d7a04bb",
       "rows": [
        [
         "Healthy",
         "119"
        ],
        [
         "Overstocked",
         "73"
        ],
        [
         "Reorder",
         "4"
        ],
        [
         "Understocked",
         "136"
        ]
       ],
       "shape": {
        "columns": 1,
        "rows": 4
       }
      },
      "text/plain": [
       "Stock_Health\n",
       "Healthy         119\n",
       "Overstocked      73\n",
       "Reorder           4\n",
       "Understocked    136\n",
       "dtype: int64"
      ]
     },
     "execution_count": 63,
     "metadata": {},
     "output_type": "execute_result"
    }
   ],
   "source": [
    "active_data.groupby('Stock_Health').size()"
   ]
  },
  {
   "cell_type": "markdown",
   "id": "aba5887a",
   "metadata": {},
   "source": [
    "With nearly 70% of our products currently understocked, we need to conduct a thorough analysis of this trend from multiple perspectives.\n"
   ]
  },
  {
   "cell_type": "code",
   "execution_count": 59,
   "id": "517d5905",
   "metadata": {},
   "outputs": [],
   "source": [
    "Understocked = active_data[active_data['Stock_Health'] == 'Understocked']"
   ]
  },
  {
   "cell_type": "markdown",
   "id": "687e6df1",
   "metadata": {},
   "source": [
    "### Understocked products per category"
   ]
  },
  {
   "cell_type": "code",
   "execution_count": 69,
   "id": "9a4eb819",
   "metadata": {},
   "outputs": [],
   "source": [
    "total_per_category = active_data.groupby('Catagory').size()\n",
    "Understocked_Per_Category = Understocked.groupby('Catagory').size().sort_values(ascending=False)"
   ]
  },
  {
   "cell_type": "code",
   "execution_count": 70,
   "id": "fe8b52ab",
   "metadata": {},
   "outputs": [],
   "source": [
    "category_summary = pd.DataFrame({\n",
    "    'total_products': total_per_category,\n",
    "    'understocked_count': Understocked_Per_Category,\n",
    "})\n",
    "category_summary['understocked_percentage'] = (category_summary['understocked_count'] / category_summary['total_products']) * 100\n",
    "\n",
    "# Clean and sort\n",
    "category_summary = category_summary.fillna(0).sort_values(by='understocked_count', ascending=False)"
   ]
  },
  {
   "cell_type": "code",
   "execution_count": 71,
   "id": "be31a896",
   "metadata": {},
   "outputs": [
    {
     "name": "stdout",
     "output_type": "stream",
     "text": [
      "                     total_products  understocked_count  \\\n",
      "Catagory                                                  \n",
      "Fruits & Vegetables             108                  52   \n",
      "Grains & Pulses                  56                  24   \n",
      "Seafood                          36                  15   \n",
      "Beverages                        31                  14   \n",
      "Dairy                            56                  14   \n",
      "Bakery                           22                  10   \n",
      "Oils & Fats                      23                   7   \n",
      "\n",
      "                     understocked_percentage  \n",
      "Catagory                                      \n",
      "Fruits & Vegetables                48.148148  \n",
      "Grains & Pulses                    42.857143  \n",
      "Seafood                            41.666667  \n",
      "Beverages                          45.161290  \n",
      "Dairy                              25.000000  \n",
      "Bakery                             45.454545  \n",
      "Oils & Fats                        30.434783  \n"
     ]
    }
   ],
   "source": [
    "print(category_summary)"
   ]
  },
  {
   "cell_type": "markdown",
   "id": "25d72ce8",
   "metadata": {},
   "source": [
    "Our initial analysis of understocked products by category revealed no clear pattern, suggesting that understocking isn't a category-specific issue."
   ]
  },
  {
   "cell_type": "markdown",
   "id": "e68038ce",
   "metadata": {},
   "source": [
    "### Understocked products per supplier"
   ]
  },
  {
   "cell_type": "code",
   "execution_count": 72,
   "id": "62df6a9f",
   "metadata": {},
   "outputs": [],
   "source": [
    "total_per_supplier = active_data.groupby('Supplier_Name').size()\n",
    "Understocked_Per_Supplier = Understocked.groupby('Supplier_Name').size().sort_values(ascending=False)"
   ]
  },
  {
   "cell_type": "code",
   "execution_count": 73,
   "id": "2943632c",
   "metadata": {},
   "outputs": [],
   "source": [
    "supplier_summary = pd.DataFrame({\n",
    "    'total_products': total_per_supplier,\n",
    "    'understocked_count': Understocked_Per_Supplier,\n",
    "})\n",
    "supplier_summary['understocked_percentage'] = (supplier_summary['understocked_count'] / supplier_summary['total_products']) * 100\n",
    "\n",
    "# Clean and sort\n",
    "supplier_summary = supplier_summary.fillna(0).sort_values(by='understocked_count', ascending=False)"
   ]
  },
  {
   "cell_type": "code",
   "execution_count": 74,
   "id": "2ce587fd",
   "metadata": {},
   "outputs": [
    {
     "name": "stdout",
     "output_type": "stream",
     "text": [
      "               total_products  understocked_count  understocked_percentage\n",
      "Supplier_Name                                                             \n",
      "Linklinks                   3                 3.0                    100.0\n",
      "Shuffledrive                4                 3.0                     75.0\n",
      "Quatz                       4                 3.0                     75.0\n",
      "Vidoo                       2                 2.0                    100.0\n",
      "Flashspan                   2                 2.0                    100.0\n",
      "...                       ...                 ...                      ...\n",
      "Midel                       2                 0.0                      0.0\n",
      "Mybuzz                      3                 0.0                      0.0\n",
      "Mycat                       1                 0.0                      0.0\n",
      "Mymm                        1                 0.0                      0.0\n",
      "Zoozzy                      1                 0.0                      0.0\n",
      "\n",
      "[233 rows x 3 columns]\n"
     ]
    }
   ],
   "source": [
    "print(supplier_summary)"
   ]
  },
  {
   "cell_type": "markdown",
   "id": "d93aa2c3",
   "metadata": {},
   "source": [
    "Understocking appears to be a widespread issue, not confined to particular suppliers. This suggests a more systemic inventory management challenge that may require policy-level intervention, rather than category or supplier-specific fixes."
   ]
  },
  {
   "cell_type": "markdown",
   "id": "4721ce2f",
   "metadata": {},
   "source": [
    "### Products in critical shortage"
   ]
  },
  {
   "cell_type": "code",
   "execution_count": 118,
   "id": "6fa462ef",
   "metadata": {},
   "outputs": [
    {
     "name": "stderr",
     "output_type": "stream",
     "text": [
      "C:\\Users\\hp\\AppData\\Local\\Temp\\ipykernel_17716\\3419675150.py:1: SettingWithCopyWarning: \n",
      "A value is trying to be set on a copy of a slice from a DataFrame.\n",
      "Try using .loc[row_indexer,col_indexer] = value instead\n",
      "\n",
      "See the caveats in the documentation: https://pandas.pydata.org/pandas-docs/stable/user_guide/indexing.html#returning-a-view-versus-a-copy\n",
      "  active_data['Gap_Ratio'] = active_data['Stock_Gap'] / active_data['Reorder_Level']\n"
     ]
    }
   ],
   "source": [
    "active_data['Gap_Ratio'] = active_data['Stock_Gap'] / active_data['Reorder_Level']"
   ]
  },
  {
   "cell_type": "code",
   "execution_count": 79,
   "id": "c4c00068",
   "metadata": {},
   "outputs": [
    {
     "data": {
      "image/png": "[encoded data removed]",
      "text/plain": [
       "<Figure size 640x480 with 1 Axes>"
      ]
     },
     "metadata": {},
     "output_type": "display_data"
    }
   ],
   "source": [
    "import matplotlib.pyplot as plt\n",
    "\n",
    "df_under = active_data[active_data['Stock_Health'] == 'Understocked']\n",
    "plt.hist(df_under['Gap_Ratio'], bins=30, edgecolor='black')\n",
    "plt.title('Distribution of Gap Ratio for Understocked Products')\n",
    "plt.xlabel('Gap Ratio (Stock Gap / Reorder Level)')\n",
    "plt.ylabel('Number of Products')\n",
    "plt.axvline(x=-1, color='red', linestyle='--', label='Critical Shortage')\n",
    "plt.legend()\n",
    "plt.show()\n"
   ]
  },
  {
   "cell_type": "code",
   "execution_count": null,
   "id": "33f03a9c",
   "metadata": {},
   "outputs": [],
   "source": [
    "critical_shortage = active_data[active_data['Gap_Ratio'] <= -0.8]\n",
    "\n",
    "critical_shortage_sorted = critical_shortage.sort_values(by='Gap_Ratio')\n",
    "\n",
    "critical_products = critical_shortage_sorted[['Product_Name', 'Catagory', 'Supplier_Name', 'Stock_Quantity', 'Reorder_Level', 'Gap_Ratio']]\n"
   ]
  },
  {
   "cell_type": "code",
   "execution_count": 81,
   "id": "e106b551",
   "metadata": {},
   "outputs": [
    {
     "data": {
      "application/vnd.microsoft.datawrangler.viewer.v0+json": {
       "columns": [
        {
         "name": "index",
         "rawType": "int64",
         "type": "integer"
        },
        {
         "name": "Product_Name",
         "rawType": "object",
         "type": "string"
        },
        {
         "name": "Catagory",
         "rawType": "object",
         "type": "string"
        },
        {
         "name": "Supplier_Name",
         "rawType": "object",
         "type": "string"
        },
        {
         "name": "Stock_Quantity",
         "rawType": "int64",
         "type": "integer"
        },
        {
         "name": "Reorder_Level",
         "rawType": "int64",
         "type": "integer"
        },
        {
         "name": "Gap_Ratio",
         "rawType": "float64",
         "type": "float"
        }
       ],
       "ref": "c60c14a4-773a-421d-9e8b-20ed50d98b64",
       "rows": [
        [
         "332",
         "Haddock",
         "Seafood",
         "Eire",
         "11",
         "87",
         "-0.8735632183908046"
        ],
        [
         "948",
         "Basmati Rice",
         "Grains & Pulses",
         "Yodo",
         "11",
         "87",
         "-0.8735632183908046"
        ],
        [
         "195",
         "Black Coffee",
         "Beverages",
         "Youfeed",
         "11",
         "72",
         "-0.8472222222222222"
        ],
        [
         "242",
         "Whipped Cream",
         "Dairy",
         "Devcast",
         "14",
         "87",
         "-0.8390804597701149"
        ],
        [
         "430",
         "Sesame Oil",
         "Oils & Fats",
         "Yotz",
         "14",
         "84",
         "-0.8333333333333334"
        ],
        [
         "510",
         "Pineapple",
         "Fruits & Vegetables",
         "Rhyloo",
         "14",
         "81",
         "-0.8271604938271605"
        ],
        [
         "94",
         "Avocado Oil",
         "Oils & Fats",
         "Dabjam",
         "14",
         "75",
         "-0.8133333333333334"
        ],
        [
         "144",
         "Black Rice",
         "Grains & Pulses",
         "Wordware",
         "11",
         "58",
         "-0.8103448275862069"
        ],
        [
         "637",
         "Plum",
         "Fruits & Vegetables",
         "Yambee",
         "11",
         "58",
         "-0.8103448275862069"
        ],
        [
         "6",
         "Coconut Sugar",
         "Grains & Pulses",
         "Lazz",
         "17",
         "85",
         "-0.8"
        ]
       ],
       "shape": {
        "columns": 6,
        "rows": 10
       }
      },
      "text/html": [
       "<div>\n",
       "<style scoped>\n",
       "    .dataframe tbody tr th:only-of-type {\n",
       "        vertical-align: middle;\n",
       "    }\n",
       "\n",
       "    .dataframe tbody tr th {\n",
       "        vertical-align: top;\n",
       "    }\n",
       "\n",
       "    .dataframe thead th {\n",
       "        text-align: right;\n",
       "    }\n",
       "</style>\n",
       "<table border=\"1\" class=\"dataframe\">\n",
       "  <thead>\n",
       "    <tr style=\"text-align: right;\">\n",
       "      <th></th>\n",
       "      <th>Product_Name</th>\n",
       "      <th>Catagory</th>\n",
       "      <th>Supplier_Name</th>\n",
       "      <th>Stock_Quantity</th>\n",
       "      <th>Reorder_Level</th>\n",
       "      <th>Gap_Ratio</th>\n",
       "    </tr>\n",
       "  </thead>\n",
       "  <tbody>\n",
       "    <tr>\n",
       "      <th>332</th>\n",
       "      <td>Haddock</td>\n",
       "      <td>Seafood</td>\n",
       "      <td>Eire</td>\n",
       "      <td>11</td>\n",
       "      <td>87</td>\n",
       "      <td>-0.873563</td>\n",
       "    </tr>\n",
       "    <tr>\n",
       "      <th>948</th>\n",
       "      <td>Basmati Rice</td>\n",
       "      <td>Grains &amp; Pulses</td>\n",
       "      <td>Yodo</td>\n",
       "      <td>11</td>\n",
       "      <td>87</td>\n",
       "      <td>-0.873563</td>\n",
       "    </tr>\n",
       "    <tr>\n",
       "      <th>195</th>\n",
       "      <td>Black Coffee</td>\n",
       "      <td>Beverages</td>\n",
       "      <td>Youfeed</td>\n",
       "      <td>11</td>\n",
       "      <td>72</td>\n",
       "      <td>-0.847222</td>\n",
       "    </tr>\n",
       "    <tr>\n",
       "      <th>242</th>\n",
       "      <td>Whipped Cream</td>\n",
       "      <td>Dairy</td>\n",
       "      <td>Devcast</td>\n",
       "      <td>14</td>\n",
       "      <td>87</td>\n",
       "      <td>-0.839080</td>\n",
       "    </tr>\n",
       "    <tr>\n",
       "      <th>430</th>\n",
       "      <td>Sesame Oil</td>\n",
       "      <td>Oils &amp; Fats</td>\n",
       "      <td>Yotz</td>\n",
       "      <td>14</td>\n",
       "      <td>84</td>\n",
       "      <td>-0.833333</td>\n",
       "    </tr>\n",
       "    <tr>\n",
       "      <th>510</th>\n",
       "      <td>Pineapple</td>\n",
       "      <td>Fruits &amp; Vegetables</td>\n",
       "      <td>Rhyloo</td>\n",
       "      <td>14</td>\n",
       "      <td>81</td>\n",
       "      <td>-0.827160</td>\n",
       "    </tr>\n",
       "    <tr>\n",
       "      <th>94</th>\n",
       "      <td>Avocado Oil</td>\n",
       "      <td>Oils &amp; Fats</td>\n",
       "      <td>Dabjam</td>\n",
       "      <td>14</td>\n",
       "      <td>75</td>\n",
       "      <td>-0.813333</td>\n",
       "    </tr>\n",
       "    <tr>\n",
       "      <th>144</th>\n",
       "      <td>Black Rice</td>\n",
       "      <td>Grains &amp; Pulses</td>\n",
       "      <td>Wordware</td>\n",
       "      <td>11</td>\n",
       "      <td>58</td>\n",
       "      <td>-0.810345</td>\n",
       "    </tr>\n",
       "    <tr>\n",
       "      <th>637</th>\n",
       "      <td>Plum</td>\n",
       "      <td>Fruits &amp; Vegetables</td>\n",
       "      <td>Yambee</td>\n",
       "      <td>11</td>\n",
       "      <td>58</td>\n",
       "      <td>-0.810345</td>\n",
       "    </tr>\n",
       "    <tr>\n",
       "      <th>6</th>\n",
       "      <td>Coconut Sugar</td>\n",
       "      <td>Grains &amp; Pulses</td>\n",
       "      <td>Lazz</td>\n",
       "      <td>17</td>\n",
       "      <td>85</td>\n",
       "      <td>-0.800000</td>\n",
       "    </tr>\n",
       "  </tbody>\n",
       "</table>\n",
       "</div>"
      ],
      "text/plain": [
       "      Product_Name             Catagory Supplier_Name  Stock_Quantity  \\\n",
       "332        Haddock              Seafood          Eire              11   \n",
       "948   Basmati Rice      Grains & Pulses          Yodo              11   \n",
       "195   Black Coffee            Beverages       Youfeed              11   \n",
       "242  Whipped Cream                Dairy       Devcast              14   \n",
       "430     Sesame Oil          Oils & Fats          Yotz              14   \n",
       "510      Pineapple  Fruits & Vegetables        Rhyloo              14   \n",
       "94     Avocado Oil          Oils & Fats        Dabjam              14   \n",
       "144     Black Rice      Grains & Pulses      Wordware              11   \n",
       "637           Plum  Fruits & Vegetables        Yambee              11   \n",
       "6    Coconut Sugar      Grains & Pulses          Lazz              17   \n",
       "\n",
       "     Reorder_Level  Gap_Ratio  \n",
       "332             87  -0.873563  \n",
       "948             87  -0.873563  \n",
       "195             72  -0.847222  \n",
       "242             87  -0.839080  \n",
       "430             84  -0.833333  \n",
       "510             81  -0.827160  \n",
       "94              75  -0.813333  \n",
       "144             58  -0.810345  \n",
       "637             58  -0.810345  \n",
       "6               85  -0.800000  "
      ]
     },
     "execution_count": 81,
     "metadata": {},
     "output_type": "execute_result"
    }
   ],
   "source": [
    "critical_products"
   ]
  },
  {
   "cell_type": "markdown",
   "id": "bae2061f",
   "metadata": {},
   "source": [
    "Although a large number of products are understocked, the severity of the shortage is generally low.\n",
    "\n",
    "Only 10 products have a gap ratio ≤ -0.8, meaning:\n",
    "\n",
    "Most understocked items still have a decent amount of stock left compared to their reorder level.\n",
    "\n",
    "This suggests the situation is not critical overall, but:\n",
    "\n",
    "We should focus first on restocking the 10 most understocked products, as they represent the highest risk of stockouts."
   ]
  },
  {
   "cell_type": "markdown",
   "id": "b9dcc2ad",
   "metadata": {},
   "source": [
    "## Overstocked products"
   ]
  },
  {
   "cell_type": "code",
   "execution_count": 119,
   "id": "ff949e80",
   "metadata": {},
   "outputs": [],
   "source": [
    "Overstocked = active_data[active_data['Stock_Health'] == 'Overstocked']"
   ]
  },
  {
   "cell_type": "markdown",
   "id": "81feb4e3",
   "metadata": {},
   "source": [
    "### Overstocked products by category"
   ]
  },
  {
   "cell_type": "code",
   "execution_count": 83,
   "id": "c4686e5a",
   "metadata": {},
   "outputs": [],
   "source": [
    "Overstocked_Per_Category = Overstocked.groupby('Catagory').size().sort_values(ascending=False)"
   ]
  },
  {
   "cell_type": "code",
   "execution_count": null,
   "id": "f89b91b1",
   "metadata": {},
   "outputs": [],
   "source": [
    "category_summary_over = pd.DataFrame({\n",
    "    'total_products': total_per_category,\n",
    "    'overstocked_count': Overstocked_Per_Category,\n",
    "})\n",
    "category_summary_over['overstocked_percentage'] = (category_summary_over['overstocked_count'] / category_summary_over['total_products']) * 100\n",
    "\n",
    "category_summary_over = category_summary_over.fillna(0).sort_values(by='overstocked_count', ascending=False)"
   ]
  },
  {
   "cell_type": "code",
   "execution_count": 85,
   "id": "f9d0828e",
   "metadata": {},
   "outputs": [
    {
     "name": "stdout",
     "output_type": "stream",
     "text": [
      "                     total_products  overstocked_count  overstocked_percentage\n",
      "Catagory                                                                      \n",
      "Dairy                            56                 20               35.714286\n",
      "Fruits & Vegetables             108                 16               14.814815\n",
      "Grains & Pulses                  56                 11               19.642857\n",
      "Beverages                        31                  8               25.806452\n",
      "Bakery                           22                  6               27.272727\n",
      "Oils & Fats                      23                  6               26.086957\n",
      "Seafood                          36                  6               16.666667\n"
     ]
    }
   ],
   "source": [
    "print(category_summary_over)"
   ]
  },
  {
   "cell_type": "markdown",
   "id": "8963ceb2",
   "metadata": {},
   "source": [
    "While dairy products exhibit the highest percentage of overstocking, the difference compared to other categories isn't substantial. This further supports the conclusion that overstocking isn't a category-specific problem"
   ]
  },
  {
   "cell_type": "markdown",
   "id": "74d22dba",
   "metadata": {},
   "source": [
    "### Low demand overstocked products"
   ]
  },
  {
   "cell_type": "code",
   "execution_count": 91,
   "id": "420d47ce",
   "metadata": {},
   "outputs": [],
   "source": [
    "low_demand_overstock = Overstocked[Overstocked['Sales_Volume'] <= np.quantile(Overstocked['Sales_Volume'], 0.25)]\n"
   ]
  },
  {
   "cell_type": "code",
   "execution_count": 92,
   "id": "e40bc458",
   "metadata": {},
   "outputs": [
    {
     "data": {
      "application/vnd.microsoft.datawrangler.viewer.v0+json": {
       "columns": [
        {
         "name": "index",
         "rawType": "int64",
         "type": "integer"
        },
        {
         "name": "Product_Name",
         "rawType": "object",
         "type": "string"
        },
        {
         "name": "Catagory",
         "rawType": "object",
         "type": "string"
        },
        {
         "name": "Stock_Quantity",
         "rawType": "int64",
         "type": "integer"
        },
        {
         "name": "Unit_Price",
         "rawType": "object",
         "type": "string"
        },
        {
         "name": "Sales_Volume",
         "rawType": "int64",
         "type": "integer"
        }
       ],
       "ref": "50012f22-93d2-4804-9c62-5c39e7f7c2e1",
       "rows": [
        [
         "60",
         "Anchovies",
         "Seafood",
         "83",
         "$10.00",
         "33"
        ],
        [
         "78",
         "Pineapple",
         "Fruits & Vegetables",
         "68",
         "$3.50",
         "25"
        ],
        [
         "92",
         "Almond Flour",
         "Grains & Pulses",
         "76",
         "$9.50",
         "24"
        ],
        [
         "148",
         "Arabica Coffee",
         "Beverages",
         "98",
         "$20.00",
         "39"
        ],
        [
         "180",
         "Oatmeal Biscuit",
         "Bakery",
         "82",
         "$5.00",
         "21"
        ],
        [
         "206",
         "Pear",
         "Fruits & Vegetables",
         "61",
         "$4.50",
         "24"
        ],
        [
         "245",
         "Powdered Sugar",
         "Grains & Pulses",
         "47",
         "$2.50",
         "22"
        ],
        [
         "288",
         "Pineapple",
         "Fruits & Vegetables",
         "65",
         "$3.50",
         "25"
        ],
        [
         "328",
         "Salmon",
         "Seafood",
         "79",
         "$15.00",
         "42"
        ],
        [
         "456",
         "Cucumber",
         "Fruits & Vegetables",
         "76",
         "$1.80",
         "22"
        ],
        [
         "506",
         "Buttermilk",
         "Dairy",
         "60",
         "$2.45",
         "42"
        ],
        [
         "513",
         "Egg (Duck)",
         "Dairy",
         "43",
         "$1.00",
         "27"
        ],
        [
         "530",
         "Wild Rice",
         "Grains & Pulses",
         "98",
         "$10.00",
         "31"
        ],
        [
         "537",
         "Ricotta Cheese",
         "Dairy",
         "66",
         "$6.00",
         "43"
        ],
        [
         "640",
         "Robusta Coffee",
         "Beverages",
         "74",
         "$10.00",
         "37"
        ],
        [
         "681",
         "Egg (Turkey)",
         "Dairy",
         "86",
         "$2.50",
         "34"
        ],
        [
         "951",
         "Pomegranate",
         "Fruits & Vegetables",
         "52",
         "$6.00",
         "38"
        ],
        [
         "964",
         "Powdered Sugar",
         "Grains & Pulses",
         "66",
         "$2.40",
         "30"
        ],
        [
         "965",
         "Rice Flour",
         "Grains & Pulses",
         "42",
         "$2.00",
         "35"
        ]
       ],
       "shape": {
        "columns": 5,
        "rows": 19
       }
      },
      "text/html": [
       "<div>\n",
       "<style scoped>\n",
       "    .dataframe tbody tr th:only-of-type {\n",
       "        vertical-align: middle;\n",
       "    }\n",
       "\n",
       "    .dataframe tbody tr th {\n",
       "        vertical-align: top;\n",
       "    }\n",
       "\n",
       "    .dataframe thead th {\n",
       "        text-align: right;\n",
       "    }\n",
       "</style>\n",
       "<table border=\"1\" class=\"dataframe\">\n",
       "  <thead>\n",
       "    <tr style=\"text-align: right;\">\n",
       "      <th></th>\n",
       "      <th>Product_Name</th>\n",
       "      <th>Catagory</th>\n",
       "      <th>Stock_Quantity</th>\n",
       "      <th>Unit_Price</th>\n",
       "      <th>Sales_Volume</th>\n",
       "    </tr>\n",
       "  </thead>\n",
       "  <tbody>\n",
       "    <tr>\n",
       "      <th>60</th>\n",
       "      <td>Anchovies</td>\n",
       "      <td>Seafood</td>\n",
       "      <td>83</td>\n",
       "      <td>$10.00</td>\n",
       "      <td>33</td>\n",
       "    </tr>\n",
       "    <tr>\n",
       "      <th>78</th>\n",
       "      <td>Pineapple</td>\n",
       "      <td>Fruits &amp; Vegetables</td>\n",
       "      <td>68</td>\n",
       "      <td>$3.50</td>\n",
       "      <td>25</td>\n",
       "    </tr>\n",
       "    <tr>\n",
       "      <th>92</th>\n",
       "      <td>Almond Flour</td>\n",
       "      <td>Grains &amp; Pulses</td>\n",
       "      <td>76</td>\n",
       "      <td>$9.50</td>\n",
       "      <td>24</td>\n",
       "    </tr>\n",
       "    <tr>\n",
       "      <th>148</th>\n",
       "      <td>Arabica Coffee</td>\n",
       "      <td>Beverages</td>\n",
       "      <td>98</td>\n",
       "      <td>$20.00</td>\n",
       "      <td>39</td>\n",
       "    </tr>\n",
       "    <tr>\n",
       "      <th>180</th>\n",
       "      <td>Oatmeal Biscuit</td>\n",
       "      <td>Bakery</td>\n",
       "      <td>82</td>\n",
       "      <td>$5.00</td>\n",
       "      <td>21</td>\n",
       "    </tr>\n",
       "    <tr>\n",
       "      <th>206</th>\n",
       "      <td>Pear</td>\n",
       "      <td>Fruits &amp; Vegetables</td>\n",
       "      <td>61</td>\n",
       "      <td>$4.50</td>\n",
       "      <td>24</td>\n",
       "    </tr>\n",
       "    <tr>\n",
       "      <th>245</th>\n",
       "      <td>Powdered Sugar</td>\n",
       "      <td>Grains &amp; Pulses</td>\n",
       "      <td>47</td>\n",
       "      <td>$2.50</td>\n",
       "      <td>22</td>\n",
       "    </tr>\n",
       "    <tr>\n",
       "      <th>288</th>\n",
       "      <td>Pineapple</td>\n",
       "      <td>Fruits &amp; Vegetables</td>\n",
       "      <td>65</td>\n",
       "      <td>$3.50</td>\n",
       "      <td>25</td>\n",
       "    </tr>\n",
       "    <tr>\n",
       "      <th>328</th>\n",
       "      <td>Salmon</td>\n",
       "      <td>Seafood</td>\n",
       "      <td>79</td>\n",
       "      <td>$15.00</td>\n",
       "      <td>42</td>\n",
       "    </tr>\n",
       "    <tr>\n",
       "      <th>456</th>\n",
       "      <td>Cucumber</td>\n",
       "      <td>Fruits &amp; Vegetables</td>\n",
       "      <td>76</td>\n",
       "      <td>$1.80</td>\n",
       "      <td>22</td>\n",
       "    </tr>\n",
       "    <tr>\n",
       "      <th>506</th>\n",
       "      <td>Buttermilk</td>\n",
       "      <td>Dairy</td>\n",
       "      <td>60</td>\n",
       "      <td>$2.45</td>\n",
       "      <td>42</td>\n",
       "    </tr>\n",
       "    <tr>\n",
       "      <th>513</th>\n",
       "      <td>Egg (Duck)</td>\n",
       "      <td>Dairy</td>\n",
       "      <td>43</td>\n",
       "      <td>$1.00</td>\n",
       "      <td>27</td>\n",
       "    </tr>\n",
       "    <tr>\n",
       "      <th>530</th>\n",
       "      <td>Wild Rice</td>\n",
       "      <td>Grains &amp; Pulses</td>\n",
       "      <td>98</td>\n",
       "      <td>$10.00</td>\n",
       "      <td>31</td>\n",
       "    </tr>\n",
       "    <tr>\n",
       "      <th>537</th>\n",
       "      <td>Ricotta Cheese</td>\n",
       "      <td>Dairy</td>\n",
       "      <td>66</td>\n",
       "      <td>$6.00</td>\n",
       "      <td>43</td>\n",
       "    </tr>\n",
       "    <tr>\n",
       "      <th>640</th>\n",
       "      <td>Robusta Coffee</td>\n",
       "      <td>Beverages</td>\n",
       "      <td>74</td>\n",
       "      <td>$10.00</td>\n",
       "      <td>37</td>\n",
       "    </tr>\n",
       "    <tr>\n",
       "      <th>681</th>\n",
       "      <td>Egg (Turkey)</td>\n",
       "      <td>Dairy</td>\n",
       "      <td>86</td>\n",
       "      <td>$2.50</td>\n",
       "      <td>34</td>\n",
       "    </tr>\n",
       "    <tr>\n",
       "      <th>951</th>\n",
       "      <td>Pomegranate</td>\n",
       "      <td>Fruits &amp; Vegetables</td>\n",
       "      <td>52</td>\n",
       "      <td>$6.00</td>\n",
       "      <td>38</td>\n",
       "    </tr>\n",
       "    <tr>\n",
       "      <th>964</th>\n",
       "      <td>Powdered Sugar</td>\n",
       "      <td>Grains &amp; Pulses</td>\n",
       "      <td>66</td>\n",
       "      <td>$2.40</td>\n",
       "      <td>30</td>\n",
       "    </tr>\n",
       "    <tr>\n",
       "      <th>965</th>\n",
       "      <td>Rice Flour</td>\n",
       "      <td>Grains &amp; Pulses</td>\n",
       "      <td>42</td>\n",
       "      <td>$2.00</td>\n",
       "      <td>35</td>\n",
       "    </tr>\n",
       "  </tbody>\n",
       "</table>\n",
       "</div>"
      ],
      "text/plain": [
       "        Product_Name             Catagory  Stock_Quantity Unit_Price  \\\n",
       "60         Anchovies              Seafood              83     $10.00   \n",
       "78         Pineapple  Fruits & Vegetables              68      $3.50   \n",
       "92      Almond Flour      Grains & Pulses              76      $9.50   \n",
       "148   Arabica Coffee            Beverages              98     $20.00   \n",
       "180  Oatmeal Biscuit               Bakery              82      $5.00   \n",
       "206             Pear  Fruits & Vegetables              61      $4.50   \n",
       "245   Powdered Sugar      Grains & Pulses              47      $2.50   \n",
       "288        Pineapple  Fruits & Vegetables              65      $3.50   \n",
       "328           Salmon              Seafood              79     $15.00   \n",
       "456         Cucumber  Fruits & Vegetables              76      $1.80   \n",
       "506       Buttermilk                Dairy              60      $2.45   \n",
       "513       Egg (Duck)                Dairy              43      $1.00   \n",
       "530        Wild Rice      Grains & Pulses              98     $10.00   \n",
       "537   Ricotta Cheese                Dairy              66      $6.00   \n",
       "640   Robusta Coffee            Beverages              74     $10.00   \n",
       "681     Egg (Turkey)                Dairy              86      $2.50   \n",
       "951      Pomegranate  Fruits & Vegetables              52      $6.00   \n",
       "964   Powdered Sugar      Grains & Pulses              66      $2.40   \n",
       "965       Rice Flour      Grains & Pulses              42      $2.00   \n",
       "\n",
       "     Sales_Volume  \n",
       "60             33  \n",
       "78             25  \n",
       "92             24  \n",
       "148            39  \n",
       "180            21  \n",
       "206            24  \n",
       "245            22  \n",
       "288            25  \n",
       "328            42  \n",
       "456            22  \n",
       "506            42  \n",
       "513            27  \n",
       "530            31  \n",
       "537            43  \n",
       "640            37  \n",
       "681            34  \n",
       "951            38  \n",
       "964            30  \n",
       "965            35  "
      ]
     },
     "execution_count": 92,
     "metadata": {},
     "output_type": "execute_result"
    }
   ],
   "source": [
    "low_demand_overstock[['Product_Name', 'Catagory', 'Stock_Quantity', 'Unit_Price', 'Sales_Volume']]\n"
   ]
  },
  {
   "cell_type": "markdown",
   "id": "383f5e04",
   "metadata": {},
   "source": [
    "### High price overstocked products"
   ]
  },
  {
   "cell_type": "code",
   "execution_count": 124,
   "id": "76f9f56f",
   "metadata": {},
   "outputs": [],
   "source": [
    "high_price_overstock = Overstocked[Overstocked['Unit_Price'] >= np.quantile(Overstocked['Unit_Price'], 0.75)]"
   ]
  },
  {
   "cell_type": "code",
   "execution_count": 125,
   "id": "8678a161",
   "metadata": {},
   "outputs": [
    {
     "data": {
      "application/vnd.microsoft.datawrangler.viewer.v0+json": {
       "columns": [
        {
         "name": "index",
         "rawType": "int64",
         "type": "integer"
        },
        {
         "name": "Product_Name",
         "rawType": "object",
         "type": "string"
        },
        {
         "name": "Catagory",
         "rawType": "object",
         "type": "string"
        },
        {
         "name": "Stock_Quantity",
         "rawType": "int64",
         "type": "integer"
        },
        {
         "name": "Unit_Price",
         "rawType": "float64",
         "type": "float"
        },
        {
         "name": "Sales_Volume",
         "rawType": "int64",
         "type": "integer"
        }
       ],
       "ref": "505f1d53-5f09-4e52-9611-d77a19593c26",
       "rows": [
        [
         "8",
         "Cheese",
         "Dairy",
         "78",
         "9.0",
         "60"
        ],
        [
         "60",
         "Anchovies",
         "Seafood",
         "83",
         "10.0",
         "33"
        ],
        [
         "92",
         "Almond Flour",
         "Grains & Pulses",
         "76",
         "9.5",
         "24"
        ],
        [
         "140",
         "Black Coffee",
         "Beverages",
         "78",
         "15.0",
         "54"
        ],
        [
         "148",
         "Arabica Coffee",
         "Beverages",
         "98",
         "20.0",
         "39"
        ],
        [
         "214",
         "White Tea",
         "Beverages",
         "99",
         "25.0",
         "93"
        ],
        [
         "328",
         "Salmon",
         "Seafood",
         "79",
         "15.0",
         "42"
        ],
        [
         "393",
         "Haddock",
         "Seafood",
         "84",
         "9.0",
         "60"
        ],
        [
         "422",
         "Parmesan Cheese",
         "Dairy",
         "96",
         "11.8",
         "78"
        ],
        [
         "500",
         "Arabica Coffee",
         "Beverages",
         "78",
         "20.5",
         "62"
        ],
        [
         "530",
         "Wild Rice",
         "Grains & Pulses",
         "98",
         "10.0",
         "31"
        ],
        [
         "640",
         "Robusta Coffee",
         "Beverages",
         "74",
         "10.0",
         "37"
        ],
        [
         "690",
         "Banana",
         "Fruits & Vegetables",
         "39",
         "13.99",
         "58"
        ],
        [
         "840",
         "Parmesan Cheese",
         "Dairy",
         "99",
         "12.0",
         "69"
        ],
        [
         "858",
         "Herbal Tea",
         "Beverages",
         "59",
         "30.0",
         "69"
        ],
        [
         "928",
         "Green Tea",
         "Beverages",
         "80",
         "8.5",
         "81"
        ],
        [
         "929",
         "Wild Rice",
         "Grains & Pulses",
         "58",
         "10.0",
         "75"
        ],
        [
         "958",
         "Robusta Coffee",
         "Beverages",
         "59",
         "10.0",
         "48"
        ],
        [
         "959",
         "Salmon",
         "Seafood",
         "73",
         "15.0",
         "89"
        ]
       ],
       "shape": {
        "columns": 5,
        "rows": 19
       }
      },
      "text/html": [
       "<div>\n",
       "<style scoped>\n",
       "    .dataframe tbody tr th:only-of-type {\n",
       "        vertical-align: middle;\n",
       "    }\n",
       "\n",
       "    .dataframe tbody tr th {\n",
       "        vertical-align: top;\n",
       "    }\n",
       "\n",
       "    .dataframe thead th {\n",
       "        text-align: right;\n",
       "    }\n",
       "</style>\n",
       "<table border=\"1\" class=\"dataframe\">\n",
       "  <thead>\n",
       "    <tr style=\"text-align: right;\">\n",
       "      <th></th>\n",
       "      <th>Product_Name</th>\n",
       "      <th>Catagory</th>\n",
       "      <th>Stock_Quantity</th>\n",
       "      <th>Unit_Price</th>\n",
       "      <th>Sales_Volume</th>\n",
       "    </tr>\n",
       "  </thead>\n",
       "  <tbody>\n",
       "    <tr>\n",
       "      <th>8</th>\n",
       "      <td>Cheese</td>\n",
       "      <td>Dairy</td>\n",
       "      <td>78</td>\n",
       "      <td>9.00</td>\n",
       "      <td>60</td>\n",
       "    </tr>\n",
       "    <tr>\n",
       "      <th>60</th>\n",
       "      <td>Anchovies</td>\n",
       "      <td>Seafood</td>\n",
       "      <td>83</td>\n",
       "      <td>10.00</td>\n",
       "      <td>33</td>\n",
       "    </tr>\n",
       "    <tr>\n",
       "      <th>92</th>\n",
       "      <td>Almond Flour</td>\n",
       "      <td>Grains &amp; Pulses</td>\n",
       "      <td>76</td>\n",
       "      <td>9.50</td>\n",
       "      <td>24</td>\n",
       "    </tr>\n",
       "    <tr>\n",
       "      <th>140</th>\n",
       "      <td>Black Coffee</td>\n",
       "      <td>Beverages</td>\n",
       "      <td>78</td>\n",
       "      <td>15.00</td>\n",
       "      <td>54</td>\n",
       "    </tr>\n",
       "    <tr>\n",
       "      <th>148</th>\n",
       "      <td>Arabica Coffee</td>\n",
       "      <td>Beverages</td>\n",
       "      <td>98</td>\n",
       "      <td>20.00</td>\n",
       "      <td>39</td>\n",
       "    </tr>\n",
       "    <tr>\n",
       "      <th>214</th>\n",
       "      <td>White Tea</td>\n",
       "      <td>Beverages</td>\n",
       "      <td>99</td>\n",
       "      <td>25.00</td>\n",
       "      <td>93</td>\n",
       "    </tr>\n",
       "    <tr>\n",
       "      <th>328</th>\n",
       "      <td>Salmon</td>\n",
       "      <td>Seafood</td>\n",
       "      <td>79</td>\n",
       "      <td>15.00</td>\n",
       "      <td>42</td>\n",
       "    </tr>\n",
       "    <tr>\n",
       "      <th>393</th>\n",
       "      <td>Haddock</td>\n",
       "      <td>Seafood</td>\n",
       "      <td>84</td>\n",
       "      <td>9.00</td>\n",
       "      <td>60</td>\n",
       "    </tr>\n",
       "    <tr>\n",
       "      <th>422</th>\n",
       "      <td>Parmesan Cheese</td>\n",
       "      <td>Dairy</td>\n",
       "      <td>96</td>\n",
       "      <td>11.80</td>\n",
       "      <td>78</td>\n",
       "    </tr>\n",
       "    <tr>\n",
       "      <th>500</th>\n",
       "      <td>Arabica Coffee</td>\n",
       "      <td>Beverages</td>\n",
       "      <td>78</td>\n",
       "      <td>20.50</td>\n",
       "      <td>62</td>\n",
       "    </tr>\n",
       "    <tr>\n",
       "      <th>530</th>\n",
       "      <td>Wild Rice</td>\n",
       "      <td>Grains &amp; Pulses</td>\n",
       "      <td>98</td>\n",
       "      <td>10.00</td>\n",
       "      <td>31</td>\n",
       "    </tr>\n",
       "    <tr>\n",
       "      <th>640</th>\n",
       "      <td>Robusta Coffee</td>\n",
       "      <td>Beverages</td>\n",
       "      <td>74</td>\n",
       "      <td>10.00</td>\n",
       "      <td>37</td>\n",
       "    </tr>\n",
       "    <tr>\n",
       "      <th>690</th>\n",
       "      <td>Banana</td>\n",
       "      <td>Fruits &amp; Vegetables</td>\n",
       "      <td>39</td>\n",
       "      <td>13.99</td>\n",
       "      <td>58</td>\n",
       "    </tr>\n",
       "    <tr>\n",
       "      <th>840</th>\n",
       "      <td>Parmesan Cheese</td>\n",
       "      <td>Dairy</td>\n",
       "      <td>99</td>\n",
       "      <td>12.00</td>\n",
       "      <td>69</td>\n",
       "    </tr>\n",
       "    <tr>\n",
       "      <th>858</th>\n",
       "      <td>Herbal Tea</td>\n",
       "      <td>Beverages</td>\n",
       "      <td>59</td>\n",
       "      <td>30.00</td>\n",
       "      <td>69</td>\n",
       "    </tr>\n",
       "    <tr>\n",
       "      <th>928</th>\n",
       "      <td>Green Tea</td>\n",
       "      <td>Beverages</td>\n",
       "      <td>80</td>\n",
       "      <td>8.50</td>\n",
       "      <td>81</td>\n",
       "    </tr>\n",
       "    <tr>\n",
       "      <th>929</th>\n",
       "      <td>Wild Rice</td>\n",
       "      <td>Grains &amp; Pulses</td>\n",
       "      <td>58</td>\n",
       "      <td>10.00</td>\n",
       "      <td>75</td>\n",
       "    </tr>\n",
       "    <tr>\n",
       "      <th>958</th>\n",
       "      <td>Robusta Coffee</td>\n",
       "      <td>Beverages</td>\n",
       "      <td>59</td>\n",
       "      <td>10.00</td>\n",
       "      <td>48</td>\n",
       "    </tr>\n",
       "    <tr>\n",
       "      <th>959</th>\n",
       "      <td>Salmon</td>\n",
       "      <td>Seafood</td>\n",
       "      <td>73</td>\n",
       "      <td>15.00</td>\n",
       "      <td>89</td>\n",
       "    </tr>\n",
       "  </tbody>\n",
       "</table>\n",
       "</div>"
      ],
      "text/plain": [
       "        Product_Name             Catagory  Stock_Quantity  Unit_Price  \\\n",
       "8             Cheese                Dairy              78        9.00   \n",
       "60         Anchovies              Seafood              83       10.00   \n",
       "92      Almond Flour      Grains & Pulses              76        9.50   \n",
       "140     Black Coffee            Beverages              78       15.00   \n",
       "148   Arabica Coffee            Beverages              98       20.00   \n",
       "214        White Tea            Beverages              99       25.00   \n",
       "328           Salmon              Seafood              79       15.00   \n",
       "393          Haddock              Seafood              84        9.00   \n",
       "422  Parmesan Cheese                Dairy              96       11.80   \n",
       "500   Arabica Coffee            Beverages              78       20.50   \n",
       "530        Wild Rice      Grains & Pulses              98       10.00   \n",
       "640   Robusta Coffee            Beverages              74       10.00   \n",
       "690           Banana  Fruits & Vegetables              39       13.99   \n",
       "840  Parmesan Cheese                Dairy              99       12.00   \n",
       "858       Herbal Tea            Beverages              59       30.00   \n",
       "928        Green Tea            Beverages              80        8.50   \n",
       "929        Wild Rice      Grains & Pulses              58       10.00   \n",
       "958   Robusta Coffee            Beverages              59       10.00   \n",
       "959           Salmon              Seafood              73       15.00   \n",
       "\n",
       "     Sales_Volume  \n",
       "8              60  \n",
       "60             33  \n",
       "92             24  \n",
       "140            54  \n",
       "148            39  \n",
       "214            93  \n",
       "328            42  \n",
       "393            60  \n",
       "422            78  \n",
       "500            62  \n",
       "530            31  \n",
       "640            37  \n",
       "690            58  \n",
       "840            69  \n",
       "858            69  \n",
       "928            81  \n",
       "929            75  \n",
       "958            48  \n",
       "959            89  "
      ]
     },
     "execution_count": 125,
     "metadata": {},
     "output_type": "execute_result"
    }
   ],
   "source": [
    "high_price_overstock[['Product_Name', 'Catagory', 'Stock_Quantity', 'Unit_Price', 'Sales_Volume']]"
   ]
  },
  {
   "cell_type": "code",
   "execution_count": 126,
   "id": "cea77d14",
   "metadata": {},
   "outputs": [
    {
     "data": {
      "application/vnd.microsoft.datawrangler.viewer.v0+json": {
       "columns": [
        {
         "name": "index",
         "rawType": "int64",
         "type": "integer"
        },
        {
         "name": "Product_Name",
         "rawType": "object",
         "type": "string"
        },
        {
         "name": "Catagory",
         "rawType": "object",
         "type": "string"
        },
        {
         "name": "Supplier_Name",
         "rawType": "object",
         "type": "string"
        },
        {
         "name": "Warehouse_Location",
         "rawType": "object",
         "type": "string"
        },
        {
         "name": "Status",
         "rawType": "object",
         "type": "string"
        },
        {
         "name": "Product_ID",
         "rawType": "object",
         "type": "string"
        },
        {
         "name": "Supplier_ID",
         "rawType": "object",
         "type": "string"
        },
        {
         "name": "Date_Received",
         "rawType": "object",
         "type": "string"
        },
        {
         "name": "Last_Order_Date",
         "rawType": "object",
         "type": "string"
        },
        {
         "name": "Expiration_Date",
         "rawType": "object",
         "type": "string"
        },
        {
         "name": "Stock_Quantity",
         "rawType": "int64",
         "type": "integer"
        },
        {
         "name": "Reorder_Level",
         "rawType": "int64",
         "type": "integer"
        },
        {
         "name": "Reorder_Quantity",
         "rawType": "int64",
         "type": "integer"
        },
        {
         "name": "Unit_Price",
         "rawType": "float64",
         "type": "float"
        },
        {
         "name": "Sales_Volume",
         "rawType": "int64",
         "type": "integer"
        },
        {
         "name": "Inventory_Turnover_Rate",
         "rawType": "int64",
         "type": "integer"
        },
        {
         "name": "percentage",
         "rawType": "object",
         "type": "string"
        },
        {
         "name": "Stock_Gap",
         "rawType": "int64",
         "type": "integer"
        },
        {
         "name": "Stock_Health",
         "rawType": "object",
         "type": "string"
        },
        {
         "name": "Gap_Ratio",
         "rawType": "float64",
         "type": "float"
        }
       ],
       "ref": "83ae1277-1133-4535-a931-85ae4ecd9fee",
       "rows": [
        [
         "60",
         "Anchovies",
         "Seafood",
         "Mybuzz",
         "31 Loomis Park",
         "Active",
         "10-445-0741",
         "82-470-7146",
         "6/3/2024",
         "7/11/2024",
         "3/31/2024",
         "83",
         "17",
         "39",
         "10.0",
         "33",
         "20",
         "-023%",
         "66",
         "Overstocked",
         "3.8823529411764706"
        ],
        [
         "92",
         "Almond Flour",
         "Grains & Pulses",
         "Trudoo",
         "4627 Amoth Circle",
         "Active",
         "17-493-4579",
         "67-541-7091",
         "10/4/2024",
         "11/8/2024",
         "5/28/2024",
         "76",
         "8",
         "2",
         "9.5",
         "24",
         "53",
         "-010%",
         "68",
         "Overstocked",
         "8.5"
        ],
        [
         "148",
         "Arabica Coffee",
         "Beverages",
         "Feedfire",
         "321 Barby Parkway",
         "Active",
         "11-155-7826",
         "91-788-3177",
         "7/6/2024",
         "1/31/2025",
         "12/26/2024",
         "98",
         "83",
         "5",
         "20.0",
         "39",
         "79",
         "018%",
         "15",
         "Overstocked",
         "0.18072289156626506"
        ],
        [
         "328",
         "Salmon",
         "Seafood",
         "Mycat",
         "21 Golden Leaf Hill",
         "Active",
         "36-330-5036",
         "52-359-1255",
         "2/1/2025",
         "9/20/2024",
         "5/17/2024",
         "79",
         "28",
         "4",
         "15.0",
         "42",
         "46",
         "070%",
         "51",
         "Overstocked",
         "1.8214285714285714"
        ],
        [
         "530",
         "Wild Rice",
         "Grains & Pulses",
         "Yoveo",
         "652 High Crossing Lane",
         "Active",
         "80-441-7249",
         "35-979-6839",
         "11/25/2024",
         "4/14/2024",
         "8/10/2024",
         "98",
         "30",
         "39",
         "10.0",
         "31",
         "26",
         "-108%",
         "68",
         "Overstocked",
         "2.2666666666666666"
        ],
        [
         "640",
         "Robusta Coffee",
         "Beverages",
         "Mymm",
         "49225 Homewood Place",
         "Active",
         "26-799-3714",
         "50-877-0990",
         "2/29/2024",
         "2/3/2025",
         "4/6/2024",
         "74",
         "2",
         "45",
         "10.0",
         "37",
         "99",
         "-103%",
         "72",
         "Overstocked",
         "36.0"
        ]
       ],
       "shape": {
        "columns": 20,
        "rows": 6
       }
      },
      "text/html": [
       "<div>\n",
       "<style scoped>\n",
       "    .dataframe tbody tr th:only-of-type {\n",
       "        vertical-align: middle;\n",
       "    }\n",
       "\n",
       "    .dataframe tbody tr th {\n",
       "        vertical-align: top;\n",
       "    }\n",
       "\n",
       "    .dataframe thead th {\n",
       "        text-align: right;\n",
       "    }\n",
       "</style>\n",
       "<table border=\"1\" class=\"dataframe\">\n",
       "  <thead>\n",
       "    <tr style=\"text-align: right;\">\n",
       "      <th></th>\n",
       "      <th>Product_Name</th>\n",
       "      <th>Catagory</th>\n",
       "      <th>Supplier_Name</th>\n",
       "      <th>Warehouse_Location</th>\n",
       "      <th>Status</th>\n",
       "      <th>Product_ID</th>\n",
       "      <th>Supplier_ID</th>\n",
       "      <th>Date_Received</th>\n",
       "      <th>Last_Order_Date</th>\n",
       "      <th>Expiration_Date</th>\n",
       "      <th>Stock_Quantity</th>\n",
       "      <th>Reorder_Level</th>\n",
       "      <th>Reorder_Quantity</th>\n",
       "      <th>Unit_Price</th>\n",
       "      <th>Sales_Volume</th>\n",
       "      <th>Inventory_Turnover_Rate</th>\n",
       "      <th>percentage</th>\n",
       "      <th>Stock_Gap</th>\n",
       "      <th>Stock_Health</th>\n",
       "      <th>Gap_Ratio</th>\n",
       "    </tr>\n",
       "  </thead>\n",
       "  <tbody>\n",
       "    <tr>\n",
       "      <th>60</th>\n",
       "      <td>Anchovies</td>\n",
       "      <td>Seafood</td>\n",
       "      <td>Mybuzz</td>\n",
       "      <td>31 Loomis Park</td>\n",
       "      <td>Active</td>\n",
       "      <td>10-445-0741</td>\n",
       "      <td>82-470-7146</td>\n",
       "      <td>6/3/2024</td>\n",
       "      <td>7/11/2024</td>\n",
       "      <td>3/31/2024</td>\n",
       "      <td>83</td>\n",
       "      <td>17</td>\n",
       "      <td>39</td>\n",
       "      <td>10.0</td>\n",
       "      <td>33</td>\n",
       "      <td>20</td>\n",
       "      <td>-023%</td>\n",
       "      <td>66</td>\n",
       "      <td>Overstocked</td>\n",
       "      <td>3.882353</td>\n",
       "    </tr>\n",
       "    <tr>\n",
       "      <th>92</th>\n",
       "      <td>Almond Flour</td>\n",
       "      <td>Grains &amp; Pulses</td>\n",
       "      <td>Trudoo</td>\n",
       "      <td>4627 Amoth Circle</td>\n",
       "      <td>Active</td>\n",
       "      <td>17-493-4579</td>\n",
       "      <td>67-541-7091</td>\n",
       "      <td>10/4/2024</td>\n",
       "      <td>11/8/2024</td>\n",
       "      <td>5/28/2024</td>\n",
       "      <td>76</td>\n",
       "      <td>8</td>\n",
       "      <td>2</td>\n",
       "      <td>9.5</td>\n",
       "      <td>24</td>\n",
       "      <td>53</td>\n",
       "      <td>-010%</td>\n",
       "      <td>68</td>\n",
       "      <td>Overstocked</td>\n",
       "      <td>8.500000</td>\n",
       "    </tr>\n",
       "    <tr>\n",
       "      <th>148</th>\n",
       "      <td>Arabica Coffee</td>\n",
       "      <td>Beverages</td>\n",
       "      <td>Feedfire</td>\n",
       "      <td>321 Barby Parkway</td>\n",
       "      <td>Active</td>\n",
       "      <td>11-155-7826</td>\n",
       "      <td>91-788-3177</td>\n",
       "      <td>7/6/2024</td>\n",
       "      <td>1/31/2025</td>\n",
       "      <td>12/26/2024</td>\n",
       "      <td>98</td>\n",
       "      <td>83</td>\n",
       "      <td>5</td>\n",
       "      <td>20.0</td>\n",
       "      <td>39</td>\n",
       "      <td>79</td>\n",
       "      <td>018%</td>\n",
       "      <td>15</td>\n",
       "      <td>Overstocked</td>\n",
       "      <td>0.180723</td>\n",
       "    </tr>\n",
       "    <tr>\n",
       "      <th>328</th>\n",
       "      <td>Salmon</td>\n",
       "      <td>Seafood</td>\n",
       "      <td>Mycat</td>\n",
       "      <td>21 Golden Leaf Hill</td>\n",
       "      <td>Active</td>\n",
       "      <td>36-330-5036</td>\n",
       "      <td>52-359-1255</td>\n",
       "      <td>2/1/2025</td>\n",
       "      <td>9/20/2024</td>\n",
       "      <td>5/17/2024</td>\n",
       "      <td>79</td>\n",
       "      <td>28</td>\n",
       "      <td>4</td>\n",
       "      <td>15.0</td>\n",
       "      <td>42</td>\n",
       "      <td>46</td>\n",
       "      <td>070%</td>\n",
       "      <td>51</td>\n",
       "      <td>Overstocked</td>\n",
       "      <td>1.821429</td>\n",
       "    </tr>\n",
       "    <tr>\n",
       "      <th>530</th>\n",
       "      <td>Wild Rice</td>\n",
       "      <td>Grains &amp; Pulses</td>\n",
       "      <td>Yoveo</td>\n",
       "      <td>652 High Crossing Lane</td>\n",
       "      <td>Active</td>\n",
       "      <td>80-441-7249</td>\n",
       "      <td>35-979-6839</td>\n",
       "      <td>11/25/2024</td>\n",
       "      <td>4/14/2024</td>\n",
       "      <td>8/10/2024</td>\n",
       "      <td>98</td>\n",
       "      <td>30</td>\n",
       "      <td>39</td>\n",
       "      <td>10.0</td>\n",
       "      <td>31</td>\n",
       "      <td>26</td>\n",
       "      <td>-108%</td>\n",
       "      <td>68</td>\n",
       "      <td>Overstocked</td>\n",
       "      <td>2.266667</td>\n",
       "    </tr>\n",
       "    <tr>\n",
       "      <th>640</th>\n",
       "      <td>Robusta Coffee</td>\n",
       "      <td>Beverages</td>\n",
       "      <td>Mymm</td>\n",
       "      <td>49225 Homewood Place</td>\n",
       "      <td>Active</td>\n",
       "      <td>26-799-3714</td>\n",
       "      <td>50-877-0990</td>\n",
       "      <td>2/29/2024</td>\n",
       "      <td>2/3/2025</td>\n",
       "      <td>4/6/2024</td>\n",
       "      <td>74</td>\n",
       "      <td>2</td>\n",
       "      <td>45</td>\n",
       "      <td>10.0</td>\n",
       "      <td>37</td>\n",
       "      <td>99</td>\n",
       "      <td>-103%</td>\n",
       "      <td>72</td>\n",
       "      <td>Overstocked</td>\n",
       "      <td>36.000000</td>\n",
       "    </tr>\n",
       "  </tbody>\n",
       "</table>\n",
       "</div>"
      ],
      "text/plain": [
       "       Product_Name         Catagory Supplier_Name      Warehouse_Location  \\\n",
       "60        Anchovies          Seafood        Mybuzz          31 Loomis Park   \n",
       "92     Almond Flour  Grains & Pulses        Trudoo       4627 Amoth Circle   \n",
       "148  Arabica Coffee        Beverages      Feedfire       321 Barby Parkway   \n",
       "328          Salmon          Seafood         Mycat     21 Golden Leaf Hill   \n",
       "530       Wild Rice  Grains & Pulses         Yoveo  652 High Crossing Lane   \n",
       "640  Robusta Coffee        Beverages          Mymm    49225 Homewood Place   \n",
       "\n",
       "     Status   Product_ID  Supplier_ID Date_Received Last_Order_Date  \\\n",
       "60   Active  10-445-0741  82-470-7146      6/3/2024       7/11/2024   \n",
       "92   Active  17-493-4579  67-541-7091     10/4/2024       11/8/2024   \n",
       "148  Active  11-155-7826  91-788-3177      7/6/2024       1/31/2025   \n",
       "328  Active  36-330-5036  52-359-1255      2/1/2025       9/20/2024   \n",
       "530  Active  80-441-7249  35-979-6839    11/25/2024       4/14/2024   \n",
       "640  Active  26-799-3714  50-877-0990     2/29/2024        2/3/2025   \n",
       "\n",
       "    Expiration_Date  Stock_Quantity  Reorder_Level  Reorder_Quantity  \\\n",
       "60        3/31/2024              83             17                39   \n",
       "92        5/28/2024              76              8                 2   \n",
       "148      12/26/2024              98             83                 5   \n",
       "328       5/17/2024              79             28                 4   \n",
       "530       8/10/2024              98             30                39   \n",
       "640        4/6/2024              74              2                45   \n",
       "\n",
       "     Unit_Price  Sales_Volume  Inventory_Turnover_Rate percentage  Stock_Gap  \\\n",
       "60         10.0            33                       20      -023%         66   \n",
       "92          9.5            24                       53      -010%         68   \n",
       "148        20.0            39                       79       018%         15   \n",
       "328        15.0            42                       46       070%         51   \n",
       "530        10.0            31                       26      -108%         68   \n",
       "640        10.0            37                       99      -103%         72   \n",
       "\n",
       "    Stock_Health  Gap_Ratio  \n",
       "60   Overstocked   3.882353  \n",
       "92   Overstocked   8.500000  \n",
       "148  Overstocked   0.180723  \n",
       "328  Overstocked   1.821429  \n",
       "530  Overstocked   2.266667  \n",
       "640  Overstocked  36.000000  "
      ]
     },
     "execution_count": 126,
     "metadata": {},
     "output_type": "execute_result"
    }
   ],
   "source": [
    "critical_overstock = Overstocked[\n",
    "    (Overstocked['Unit_Price'] >= np.quantile(Overstocked['Unit_Price'], 0.75)) &\n",
    "    (Overstocked['Sales_Volume'] <= np.quantile(Overstocked['Sales_Volume'], 0.25))\n",
    "]\n",
    "\n",
    "critical_overstock"
   ]
  },
  {
   "cell_type": "markdown",
   "id": "e98653f4",
   "metadata": {},
   "source": [
    "These overstocked products represent our most expensive and slowest-selling items, demanding immediate and focused attention. Their current state significantly harms our cash flow and elevates financial risk.\n",
    "\n",
    "We need to conduct a thorough review to identify the most effective interventions. Potential actions include:\n",
    "\n",
    "Implementing promotional strategies\n",
    "\n",
    "Executing clearance sales\n",
    "\n",
    "Refining inventory planning actions\n",
    "\n",
    "Adjusting supply chain operations"
   ]
  },
  {
   "cell_type": "markdown",
   "id": "3797e46d",
   "metadata": {},
   "source": [
    "## ABC Analysis"
   ]
  },
  {
   "cell_type": "code",
   "execution_count": 134,
   "id": "999acd3f",
   "metadata": {},
   "outputs": [
    {
     "name": "stderr",
     "output_type": "stream",
     "text": [
      "C:\\Users\\hp\\AppData\\Local\\Temp\\ipykernel_17716\\1697068431.py:1: SettingWithCopyWarning: \n",
      "A value is trying to be set on a copy of a slice from a DataFrame.\n",
      "Try using .loc[row_indexer,col_indexer] = value instead\n",
      "\n",
      "See the caveats in the documentation: https://pandas.pydata.org/pandas-docs/stable/user_guide/indexing.html#returning-a-view-versus-a-copy\n",
      "  active_data['Total_Value'] = active_data['Unit_Price'] * active_data['Sales_Volume']\n"
     ]
    }
   ],
   "source": [
    "active_data['Total_Value'] = active_data['Unit_Price'] * active_data['Sales_Volume']\n"
   ]
  },
  {
   "cell_type": "code",
   "execution_count": 135,
   "id": "fa4bc324",
   "metadata": {},
   "outputs": [],
   "source": [
    "df_sorted = active_data.sort_values('Total_Value', ascending=False).reset_index(drop=True)"
   ]
  },
  {
   "cell_type": "code",
   "execution_count": 136,
   "id": "91d274e4",
   "metadata": {},
   "outputs": [],
   "source": [
    "df_sorted['cum_value'] = df_sorted['Total_Value'].cumsum()\n",
    "df_sorted['cum_perc'] = 100 * df_sorted['cum_value'] / df_sorted['Total_Value'].sum()"
   ]
  },
  {
   "cell_type": "code",
   "execution_count": 137,
   "id": "556b7aef",
   "metadata": {},
   "outputs": [],
   "source": [
    "def assign_abc(perc):\n",
    "    if perc <= 70:\n",
    "        return 'A'\n",
    "    elif perc <= 90:\n",
    "        return 'B'\n",
    "    else:\n",
    "        return 'C'\n",
    "\n",
    "df_sorted['abc_category'] = df_sorted['cum_perc'].apply(assign_abc)\n"
   ]
  },
  {
   "cell_type": "code",
   "execution_count": null,
   "id": "409deaf7",
   "metadata": {},
   "outputs": [],
   "source": [
    "active_data = active_data.merge(\n",
    "    df_sorted[['Product_ID', 'abc_category']],\n",
    "    on='Product_ID',\n",
    "    how='left'  \n",
    ")\n"
   ]
  },
  {
   "cell_type": "code",
   "execution_count": 143,
   "id": "55172503",
   "metadata": {},
   "outputs": [
    {
     "data": {
      "application/vnd.microsoft.datawrangler.viewer.v0+json": {
       "columns": [
        {
         "name": "('abc_category', 'Stock_Health')",
         "rawType": "object",
         "type": "unknown"
        },
        {
         "name": "0",
         "rawType": "int64",
         "type": "integer"
        }
       ],
       "ref": "e710883b-9267-4deb-846f-d6f9cd1bcf94",
       "rows": [
        [
         "('A', 'Healthy')",
         "40"
        ],
        [
         "('A', 'Overstocked')",
         "31"
        ],
        [
         "('A', 'Reorder')",
         "2"
        ],
        [
         "('A', 'Understocked')",
         "50"
        ],
        [
         "('B', 'Healthy')",
         "40"
        ],
        [
         "('B', 'Overstocked')",
         "17"
        ],
        [
         "('B', 'Reorder')",
         "1"
        ],
        [
         "('B', 'Understocked')",
         "37"
        ],
        [
         "('C', 'Healthy')",
         "39"
        ],
        [
         "('C', 'Overstocked')",
         "25"
        ],
        [
         "('C', 'Reorder')",
         "1"
        ],
        [
         "('C', 'Understocked')",
         "49"
        ]
       ],
       "shape": {
        "columns": 1,
        "rows": 12
       }
      },
      "text/plain": [
       "abc_category  Stock_Health\n",
       "A             Healthy         40\n",
       "              Overstocked     31\n",
       "              Reorder          2\n",
       "              Understocked    50\n",
       "B             Healthy         40\n",
       "              Overstocked     17\n",
       "              Reorder          1\n",
       "              Understocked    37\n",
       "C             Healthy         39\n",
       "              Overstocked     25\n",
       "              Reorder          1\n",
       "              Understocked    49\n",
       "dtype: int64"
      ]
     },
     "execution_count": 143,
     "metadata": {},
     "output_type": "execute_result"
    }
   ],
   "source": [
    "active_data.groupby(['abc_category', 'Stock_Health']).size()"
   ]
  },
  {
   "cell_type": "code",
   "execution_count": 142,
   "id": "d177a841",
   "metadata": {},
   "outputs": [
    {
     "data": {
      "text/plain": [
       "<Axes: xlabel='abc_category'>"
      ]
     },
     "execution_count": 142,
     "metadata": {},
     "output_type": "execute_result"
    },
    {
     "data": {
      "image/png": "[encoded data removed]",
      "text/plain": [
       "<Figure size 640x480 with 1 Axes>"
      ]
     },
     "metadata": {},
     "output_type": "display_data"
    }
   ],
   "source": [
    "active_data.groupby(['abc_category', 'Stock_Health']).size().unstack(fill_value=0).plot(kind='bar', stacked=True)"
   ]
  },
  {
   "cell_type": "code",
   "execution_count": 145,
   "id": "97091e12",
   "metadata": {},
   "outputs": [],
   "source": [
    "active_data.to_csv('Active_Products.csv')"
   ]
  }
 ],
 "metadata": {
  "kernelspec": {
   "display_name": "base",
   "language": "python",
   "name": "python3"
  },
  "language_info": {
   "codemirror_mode": {
    "name": "ipython",
    "version": 3
   },
   "file_extension": ".py",
   "mimetype": "text/x-python",
   "name": "python",
   "nbconvert_exporter": "python",
   "pygments_lexer": "ipython3",
   "version": "3.11.5"
  }
 },
 "nbformat": 4,
 "nbformat_minor": 5
}
